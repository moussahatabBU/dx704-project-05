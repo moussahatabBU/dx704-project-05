{
  "cells": [
    {
      "cell_type": "markdown",
      "metadata": {
        "id": "Md413FzAvFD8"
      },
      "source": [
        "# DX 704 Week 5 Project\n",
        "\n",
        "This week's project will test your understanding of this week's concepts by asking you to simulate various algorithms by hand.\n",
        "You will apply search, minimax and dynamic programming concepts to solve a variety of small planning problems."
      ]
    },
    {
      "cell_type": "markdown",
      "metadata": {
        "id": "MeWtrixsH2uH"
      },
      "source": [
        "The full project description, a template notebook and supporting materials are available on GitHub: [Project 5 Materials](https://github.com/bu-cds-dx704/dx704-project-05)."
      ]
    },
    {
      "cell_type": "markdown",
      "metadata": {
        "id": "uRC-Wd81daLm"
      },
      "source": [
        "## Example Code\n",
        "\n",
        "This week's assignment does not involve any coding."
      ]
    },
    {
      "cell_type": "markdown",
      "metadata": {
        "id": "C8oSLkMqvMFF"
      },
      "source": [
        "## Part 1: Searching vs Games\n",
        "\n",
        "Consider the state space illustrated below.\n",
        "Each terminal state state is marked with a reward for reaching that state.\n",
        "Each non-terminal state has two possible actions represented by the two outgoing arrows to later (lower) states.\n",
        "The only rewards are for reaching the terminal states, there are no diminishing returns (i.e. $\\gamma=1$), and there is no randomness so actions may be freely chosen."
      ]
    },
    {
      "cell_type": "markdown",
      "metadata": {
        "id": "IqIrGebXXNEA"
      },
      "source": [
        "![](https://github.com/bu-cds-dx704/dx704-project-05/blob/main/part1.png?raw=true)"
      ]
    },
    {
      "cell_type": "markdown",
      "metadata": {
        "id": "3rpIFDV0rQ2-"
      },
      "source": [
        "Solve for the value of each non-terminal state according to the following three scenarios.\n",
        "\n",
        "1. Search: There is one agent that picks all actions with the goal of maximizing the final reward.\n",
        "2. Minimax: There are two agents P1 and P2. P1 controls the actions for the 1st and 3rd rows (i.e. the states marked A and D-G) while P2 controls the actions for the 2nd and 4th rows (i.e. the states B-C and H-J). P1 seeks to maximize the final reward, and P2 seeks to minimize the final reward.\n",
        "3. Maximin: P1 and P2 control the same states as before, but P1 seeks to minimize the final reward, and P2 seeks to maximize the final reward.\n",
        "\n",
        "Save your results in a file \"values-1.tsv\" with the column state with label A-J and columns search_value, minimax_value, and maximin_value that respectively correspond to the three scenarios."
      ]
    },
    {
      "cell_type": "markdown",
      "metadata": {
        "id": "sH9SgF44sU9o"
      },
      "source": [
        "Hint: Print out the image above and compute the values by hand in a bottom up fashion."
      ]
    },
    {
      "cell_type": "code",
      "execution_count": 1,
      "metadata": {},
      "outputs": [],
      "source": [
        "import pandas as pd "
      ]
    },
    {
      "cell_type": "code",
      "execution_count": 2,
      "metadata": {},
      "outputs": [],
      "source": [
        "df = pd.DataFrame({\n",
        "    \"state\": list(\"ABCDEFGHIJ\"),\n",
        "    \"search_value\":  [20, 20, 1, 20, 5, 1, 1, 9, 20, 3],\n",
        "    \"minimax_value\": [1, 1, 1, 1, 5, 1, 1, -1, 1, 2],\n",
        "    \"maximin_value\": [0, 9, 0, 9, 3, -1, 0, 9, 20, 3],\n",
        "})\n",
        "df.to_csv(\"values-1.tsv\", sep=\"\\t\", index=False)"
      ]
    },
    {
      "cell_type": "code",
      "execution_count": 3,
      "metadata": {},
      "outputs": [
        {
          "data": {
            "text/html": [
              "<div>\n",
              "<style scoped>\n",
              "    .dataframe tbody tr th:only-of-type {\n",
              "        vertical-align: middle;\n",
              "    }\n",
              "\n",
              "    .dataframe tbody tr th {\n",
              "        vertical-align: top;\n",
              "    }\n",
              "\n",
              "    .dataframe thead th {\n",
              "        text-align: right;\n",
              "    }\n",
              "</style>\n",
              "<table border=\"1\" class=\"dataframe\">\n",
              "  <thead>\n",
              "    <tr style=\"text-align: right;\">\n",
              "      <th></th>\n",
              "      <th>state</th>\n",
              "      <th>search_value</th>\n",
              "      <th>minimax_value</th>\n",
              "      <th>maximin_value</th>\n",
              "    </tr>\n",
              "  </thead>\n",
              "  <tbody>\n",
              "    <tr>\n",
              "      <th>0</th>\n",
              "      <td>A</td>\n",
              "      <td>20</td>\n",
              "      <td>1</td>\n",
              "      <td>0</td>\n",
              "    </tr>\n",
              "    <tr>\n",
              "      <th>1</th>\n",
              "      <td>B</td>\n",
              "      <td>20</td>\n",
              "      <td>1</td>\n",
              "      <td>9</td>\n",
              "    </tr>\n",
              "    <tr>\n",
              "      <th>2</th>\n",
              "      <td>C</td>\n",
              "      <td>1</td>\n",
              "      <td>1</td>\n",
              "      <td>0</td>\n",
              "    </tr>\n",
              "    <tr>\n",
              "      <th>3</th>\n",
              "      <td>D</td>\n",
              "      <td>20</td>\n",
              "      <td>1</td>\n",
              "      <td>9</td>\n",
              "    </tr>\n",
              "    <tr>\n",
              "      <th>4</th>\n",
              "      <td>E</td>\n",
              "      <td>5</td>\n",
              "      <td>5</td>\n",
              "      <td>3</td>\n",
              "    </tr>\n",
              "    <tr>\n",
              "      <th>5</th>\n",
              "      <td>F</td>\n",
              "      <td>1</td>\n",
              "      <td>1</td>\n",
              "      <td>-1</td>\n",
              "    </tr>\n",
              "    <tr>\n",
              "      <th>6</th>\n",
              "      <td>G</td>\n",
              "      <td>1</td>\n",
              "      <td>1</td>\n",
              "      <td>0</td>\n",
              "    </tr>\n",
              "    <tr>\n",
              "      <th>7</th>\n",
              "      <td>H</td>\n",
              "      <td>9</td>\n",
              "      <td>-1</td>\n",
              "      <td>9</td>\n",
              "    </tr>\n",
              "    <tr>\n",
              "      <th>8</th>\n",
              "      <td>I</td>\n",
              "      <td>20</td>\n",
              "      <td>1</td>\n",
              "      <td>20</td>\n",
              "    </tr>\n",
              "    <tr>\n",
              "      <th>9</th>\n",
              "      <td>J</td>\n",
              "      <td>3</td>\n",
              "      <td>2</td>\n",
              "      <td>3</td>\n",
              "    </tr>\n",
              "  </tbody>\n",
              "</table>\n",
              "</div>"
            ],
            "text/plain": [
              "  state  search_value  minimax_value  maximin_value\n",
              "0     A            20              1              0\n",
              "1     B            20              1              9\n",
              "2     C             1              1              0\n",
              "3     D            20              1              9\n",
              "4     E             5              5              3\n",
              "5     F             1              1             -1\n",
              "6     G             1              1              0\n",
              "7     H             9             -1              9\n",
              "8     I            20              1             20\n",
              "9     J             3              2              3"
            ]
          },
          "execution_count": 3,
          "metadata": {},
          "output_type": "execute_result"
        }
      ],
      "source": [
        "df"
      ]
    },
    {
      "cell_type": "markdown",
      "metadata": {
        "id": "FiuoS64VuPaQ"
      },
      "source": [
        "Submit the file \"values-1.tsv\" in Gradescope."
      ]
    },
    {
      "cell_type": "markdown",
      "metadata": {
        "id": "kfvETFzfbLtM"
      },
      "source": [
        "## Part 2: Picking Up Sticks\n",
        "\n",
        "The state space illustrated below corresponds to a variation of the game [Nim](https://en.wikipedia.org/wiki/Nim).\n",
        "States labeled with a prefix of \"p1_\" correspond to states where player P1 chooses the action while states labeled with a prefix of \"p2_\" correspond to states where player P2 chooses the action.\n",
        "The number in the suffix is the number of \"sticks\" remaining.\n",
        "The players take turns choosing actions, and each action corresponds to removing one or two sticks.\n",
        "When there are no more sticks, the player who would have picked an action loses.\n"
      ]
    },
    {
      "cell_type": "markdown",
      "metadata": {
        "id": "lvbiyLjebPz4"
      },
      "source": [
        "![](https://github.com/bu-cds-dx704/dx704-project-05/blob/main/part2.png?raw=true)"
      ]
    },
    {
      "cell_type": "markdown",
      "metadata": {
        "id": "4iwgAVJptral"
      },
      "source": [
        "For example, from the state labeled \"p1_1\", there is one stick left, player P1 removes the last stick, and player P2 loses.\n",
        "The loss for P2 is represented by a final reward of +1.\n",
        "A loss for P1 is represented by a final reward of -1.\n",
        "Player P1 tries to maximize the final reward, and player P2 tries to minimize the final reward."
      ]
    },
    {
      "cell_type": "markdown",
      "metadata": {
        "id": "5cHZf7Y7t0rN"
      },
      "source": [
        "Solve for the value of each of the non-terminal states.\n",
        "Save the results in a file \"values-2.tsv\" with columns state and value."
      ]
    },
    {
      "cell_type": "markdown",
      "metadata": {
        "id": "gLkvKANCuTkK"
      },
      "source": [
        "Submit the file \"values-2.tsv\" in Gradescope."
      ]
    },
    {
      "cell_type": "code",
      "execution_count": 4,
      "metadata": {},
      "outputs": [],
      "source": [
        "data = [\n",
        "    (\"p1_1\", 1),\n",
        "    (\"p2_1\", -1),\n",
        "    (\"p1_2\", 1),\n",
        "    (\"p2_2\", -1),\n",
        "    (\"p1_3\", -1),\n",
        "    (\"p2_3\", 1),\n",
        "    (\"p1_4\", 1),\n",
        "    (\"p2_4\", -1),\n",
        "    (\"p1_5\", 1),\n",
        "    (\"p2_5\", -1),\n",
        "]\n",
        "\n",
        "df2 = pd.DataFrame(data, columns=[\"state\", \"value\"])\n",
        "df2.to_csv(\"values-2.tsv\", sep=\"\\t\", index=False)"
      ]
    },
    {
      "cell_type": "code",
      "execution_count": 5,
      "metadata": {},
      "outputs": [
        {
          "data": {
            "text/html": [
              "<div>\n",
              "<style scoped>\n",
              "    .dataframe tbody tr th:only-of-type {\n",
              "        vertical-align: middle;\n",
              "    }\n",
              "\n",
              "    .dataframe tbody tr th {\n",
              "        vertical-align: top;\n",
              "    }\n",
              "\n",
              "    .dataframe thead th {\n",
              "        text-align: right;\n",
              "    }\n",
              "</style>\n",
              "<table border=\"1\" class=\"dataframe\">\n",
              "  <thead>\n",
              "    <tr style=\"text-align: right;\">\n",
              "      <th></th>\n",
              "      <th>state</th>\n",
              "      <th>value</th>\n",
              "    </tr>\n",
              "  </thead>\n",
              "  <tbody>\n",
              "    <tr>\n",
              "      <th>0</th>\n",
              "      <td>p1_1</td>\n",
              "      <td>1</td>\n",
              "    </tr>\n",
              "    <tr>\n",
              "      <th>1</th>\n",
              "      <td>p2_1</td>\n",
              "      <td>-1</td>\n",
              "    </tr>\n",
              "    <tr>\n",
              "      <th>2</th>\n",
              "      <td>p1_2</td>\n",
              "      <td>1</td>\n",
              "    </tr>\n",
              "    <tr>\n",
              "      <th>3</th>\n",
              "      <td>p2_2</td>\n",
              "      <td>-1</td>\n",
              "    </tr>\n",
              "    <tr>\n",
              "      <th>4</th>\n",
              "      <td>p1_3</td>\n",
              "      <td>-1</td>\n",
              "    </tr>\n",
              "    <tr>\n",
              "      <th>5</th>\n",
              "      <td>p2_3</td>\n",
              "      <td>1</td>\n",
              "    </tr>\n",
              "    <tr>\n",
              "      <th>6</th>\n",
              "      <td>p1_4</td>\n",
              "      <td>1</td>\n",
              "    </tr>\n",
              "    <tr>\n",
              "      <th>7</th>\n",
              "      <td>p2_4</td>\n",
              "      <td>-1</td>\n",
              "    </tr>\n",
              "    <tr>\n",
              "      <th>8</th>\n",
              "      <td>p1_5</td>\n",
              "      <td>1</td>\n",
              "    </tr>\n",
              "    <tr>\n",
              "      <th>9</th>\n",
              "      <td>p2_5</td>\n",
              "      <td>-1</td>\n",
              "    </tr>\n",
              "  </tbody>\n",
              "</table>\n",
              "</div>"
            ],
            "text/plain": [
              "  state  value\n",
              "0  p1_1      1\n",
              "1  p2_1     -1\n",
              "2  p1_2      1\n",
              "3  p2_2     -1\n",
              "4  p1_3     -1\n",
              "5  p2_3      1\n",
              "6  p1_4      1\n",
              "7  p2_4     -1\n",
              "8  p1_5      1\n",
              "9  p2_5     -1"
            ]
          },
          "execution_count": 5,
          "metadata": {},
          "output_type": "execute_result"
        }
      ],
      "source": [
        "df2"
      ]
    },
    {
      "cell_type": "markdown",
      "metadata": {
        "id": "NWFScR_kuVnU"
      },
      "source": [
        "## Part 3: Searching a Maze\n",
        "\n",
        "Consider the following maze."
      ]
    },
    {
      "cell_type": "markdown",
      "metadata": {
        "id": "MqPKQ9mEx7Al"
      },
      "source": [
        "![](https://github.com/bu-cds-dx704/dx704-project-05/blob/main/part3.png?raw=true)"
      ]
    },
    {
      "cell_type": "markdown",
      "metadata": {
        "id": "4NtP8sDMvTSS"
      },
      "source": [
        "State C is a terminal state giving reward +100.\n",
        "The remaining states have a reward of -1 when they are reached.\n",
        "So moving to state F has a value of +99 do to the reward of -1 at state F and the optimal action of moving to state C for the reward of +100 afterwards."
      ]
    },
    {
      "cell_type": "markdown",
      "metadata": {
        "id": "82BHKa1syjEk"
      },
      "source": [
        "Compute the values for states A-J and S and save them in a file \"values-3.tsv\" with columns state and value."
      ]
    },
    {
      "cell_type": "markdown",
      "metadata": {
        "id": "NAKgdr4XysuK"
      },
      "source": [
        "Submit \"values-3.tsv\" in Gradescope."
      ]
    },
    {
      "cell_type": "code",
      "execution_count": 8,
      "metadata": {},
      "outputs": [],
      "source": [
        "data2 = [\n",
        "    (\"A\", 92),\n",
        "    (\"B\", 94),\n",
        "    (\"C\", 100),\n",
        "    (\"D\", 95),\n",
        "    (\"E\", 95),\n",
        "    (\"F\", 99),\n",
        "    (\"G\", 96),\n",
        "    (\"H\", 96),\n",
        "    (\"I\", 97),\n",
        "    (\"J\", 98),\n",
        "    (\"S\", 93)\n",
        "]\n",
        "\n",
        "df3 = pd.DataFrame(data2, columns= [\"state\", \"value\"])\n",
        "df3.to_csv(\"values-3.tsv\", sep=\"\\t\", index=False)"
      ]
    },
    {
      "cell_type": "code",
      "execution_count": 9,
      "metadata": {},
      "outputs": [
        {
          "data": {
            "text/html": [
              "<div>\n",
              "<style scoped>\n",
              "    .dataframe tbody tr th:only-of-type {\n",
              "        vertical-align: middle;\n",
              "    }\n",
              "\n",
              "    .dataframe tbody tr th {\n",
              "        vertical-align: top;\n",
              "    }\n",
              "\n",
              "    .dataframe thead th {\n",
              "        text-align: right;\n",
              "    }\n",
              "</style>\n",
              "<table border=\"1\" class=\"dataframe\">\n",
              "  <thead>\n",
              "    <tr style=\"text-align: right;\">\n",
              "      <th></th>\n",
              "      <th>state</th>\n",
              "      <th>value</th>\n",
              "    </tr>\n",
              "  </thead>\n",
              "  <tbody>\n",
              "    <tr>\n",
              "      <th>0</th>\n",
              "      <td>A</td>\n",
              "      <td>92</td>\n",
              "    </tr>\n",
              "    <tr>\n",
              "      <th>1</th>\n",
              "      <td>B</td>\n",
              "      <td>94</td>\n",
              "    </tr>\n",
              "    <tr>\n",
              "      <th>2</th>\n",
              "      <td>C</td>\n",
              "      <td>100</td>\n",
              "    </tr>\n",
              "    <tr>\n",
              "      <th>3</th>\n",
              "      <td>D</td>\n",
              "      <td>95</td>\n",
              "    </tr>\n",
              "    <tr>\n",
              "      <th>4</th>\n",
              "      <td>E</td>\n",
              "      <td>95</td>\n",
              "    </tr>\n",
              "    <tr>\n",
              "      <th>5</th>\n",
              "      <td>F</td>\n",
              "      <td>99</td>\n",
              "    </tr>\n",
              "    <tr>\n",
              "      <th>6</th>\n",
              "      <td>G</td>\n",
              "      <td>96</td>\n",
              "    </tr>\n",
              "    <tr>\n",
              "      <th>7</th>\n",
              "      <td>H</td>\n",
              "      <td>96</td>\n",
              "    </tr>\n",
              "    <tr>\n",
              "      <th>8</th>\n",
              "      <td>I</td>\n",
              "      <td>97</td>\n",
              "    </tr>\n",
              "    <tr>\n",
              "      <th>9</th>\n",
              "      <td>J</td>\n",
              "      <td>98</td>\n",
              "    </tr>\n",
              "    <tr>\n",
              "      <th>10</th>\n",
              "      <td>S</td>\n",
              "      <td>93</td>\n",
              "    </tr>\n",
              "  </tbody>\n",
              "</table>\n",
              "</div>"
            ],
            "text/plain": [
              "   state  value\n",
              "0      A     92\n",
              "1      B     94\n",
              "2      C    100\n",
              "3      D     95\n",
              "4      E     95\n",
              "5      F     99\n",
              "6      G     96\n",
              "7      H     96\n",
              "8      I     97\n",
              "9      J     98\n",
              "10     S     93"
            ]
          },
          "execution_count": 9,
          "metadata": {},
          "output_type": "execute_result"
        }
      ],
      "source": [
        "df3"
      ]
    },
    {
      "cell_type": "markdown",
      "metadata": {
        "id": "zi8lV2pbvWMs"
      },
      "source": [
        "## Part 4: Acknowledgements\n",
        "\n",
        "If you discussed this assignment with anyone, please acknowledge them here.\n",
        "If you did this assignment completely on your own, simply write none below.\n",
        "\n",
        "If you used any libraries not mentioned in this module's content, please list them with a brief explanation what you used them for. If you did not use any other libraries, simply write none below.\n",
        "\n",
        "If you used any generative AI tools, please add links to your transcripts below, and any other information that you feel is necessary to comply with the generative AI policy. If you did not use any generative AI tools, simply write none below."
      ]
    },
    {
      "cell_type": "markdown",
      "metadata": {},
      "source": [
        "None for all the following acknowledgements"
      ]
    }
  ],
  "metadata": {
    "colab": {
      "toc_visible": false
    },
    "kernelspec": {
      "display_name": "Python 3",
      "name": "python3"
    },
    "language_info": {
      "codemirror_mode": {
        "name": "ipython",
        "version": 3
      },
      "file_extension": ".py",
      "mimetype": "text/x-python",
      "name": "python",
      "nbconvert_exporter": "python",
      "pygments_lexer": "ipython3",
      "version": "3.12.1"
    }
  },
  "nbformat": 4,
  "nbformat_minor": 0
}
